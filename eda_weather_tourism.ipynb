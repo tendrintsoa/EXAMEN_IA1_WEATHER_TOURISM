{
 "cells": [
  {
   "cell_type": "markdown",
   "id": "3818995b",
   "metadata": {},
   "source": [
    "# Analyse Exploratoire des Données (EDA) - Projet Météo et Tourisme"
   ]
  },
  {
   "cell_type": "markdown",
   "id": "332befee",
   "metadata": {},
   "source": [
    "Ce notebook présente une analyse exploratoire des données collectées et transformées dans le cadre du projet EXAMEN_IA1_WEATHER_TOURISM."
   ]
  },
  {
   "cell_type": "code",
   "execution_count": null,
   "id": "d4ee5764",
   "metadata": {},
   "outputs": [],
   "source": [
    "import pandas as pd\n",
    "import matplotlib.pyplot as plt\n",
    "import seaborn as sns\n"
   ]
  },
  {
   "cell_type": "code",
   "execution_count": null,
   "id": "f664bc43",
   "metadata": {},
   "outputs": [],
   "source": [
    "try:\n",
    "    df = pd.read_csv(\"/home/ubuntu/EXAMEN_IA1_WEATHER_TOURISM/weather_tourism/data/weather_combined.csv\")\n",
    "    print(\"Données chargées avec succès.\")\n",
    "except FileNotFoundError:\n",
    "    print(\"Le fichier weather_combined.csv n'a pas été trouvé. Veuillez vous assurer que le pipeline ETL a été exécuté.\")\n",
    "    df = pd.DataFrame() # Create an empty DataFrame to avoid errors\n"
   ]
  },
  {
   "cell_type": "code",
   "execution_count": null,
   "id": "e16627ca",
   "metadata": {},
   "outputs": [],
   "source": [
    "if not df.empty:\n",
    "    print(\"Informations générales sur le DataFrame:\")\n",
    "    df.info()\n",
    "    print(\"\\nPremières lignes du DataFrame:\")\n",
    "    print(df.head())\n",
    "    print(\"\\nStatistiques descriptives:\")\n",
    "    print(df.describe())\n"
   ]
  },
  {
   "cell_type": "markdown",
   "id": "4549763d",
   "metadata": {},
   "source": [
    "## Distribution des Variables Clés"
   ]
  },
  {
   "cell_type": "code",
   "execution_count": null,
   "id": "fcf11602",
   "metadata": {},
   "outputs": [],
   "source": [
    "if not df.empty:\n",
    "    plt.figure(figsize=(10, 6))\n",
    "    sns.histplot(df[\"temperature\"], kde=True)\n",
    "    plt.title(\"Distribution des Températures\")\n",
    "    plt.xlabel(\"Température (°C)\")\n",
    "    plt.ylabel(\"Fréquence\")\n",
    "    plt.savefig(\"/home/ubuntu/temperature_distribution.png\")\n",
    "    plt.show()\n"
   ]
  },
  {
   "cell_type": "code",
   "execution_count": null,
   "id": "6cd506a9",
   "metadata": {},
   "outputs": [],
   "source": [
    "if not df.empty:\n",
    "    plt.figure(figsize=(10, 6))\n",
    "    sns.histplot(df[\"humidity\"], kde=True)\n",
    "    plt.title(\"Distribution de l'Humidité\")\n",
    "    plt.xlabel(\"Humidité (%)\")\n",
    "    plt.ylabel(\"Fréquence\")\n",
    "    plt.savefig(\"/home/ubuntu/humidity_distribution.png\")\n",
    "    plt.show()\n"
   ]
  },
  {
   "cell_type": "code",
   "execution_count": null,
   "id": "17995575",
   "metadata": {},
   "outputs": [],
   "source": [
    "if not df.empty:\n",
    "    plt.figure(figsize=(10, 6))\n",
    "    sns.histplot(df[\"tourism_score\"], kde=True)\n",
    "    plt.title(\"Distribution du Score de Tourisme\")\n",
    "    plt.xlabel(\"Score de Tourisme\")\n",
    "    plt.ylabel(\"Fréquence\")\n",
    "    plt.savefig(\"/home/ubuntu/tourism_score_distribution.png\")\n",
    "    plt.show()\n"
   ]
  },
  {
   "cell_type": "markdown",
   "id": "1ca8eecb",
   "metadata": {},
   "source": [
    "## Analyse des Corrélations"
   ]
  },
  {
   "cell_type": "code",
   "execution_count": null,
   "id": "144b003c",
   "metadata": {},
   "outputs": [],
   "source": [
    "if not df.empty:\n",
    "    numeric_cols = df.select_dtypes(include=[\"number\"]).columns\n",
    "    if not numeric_cols.empty:\n",
    "        plt.figure(figsize=(12, 8))\n",
    "        sns.heatmap(df[numeric_cols].corr(), annot=True, cmap=\"coolwarm\", fmt=\".2f\")\n",
    "        plt.title(\"Matrice de Corrélation des Variables Numériques\")\n",
    "        plt.savefig(\"/home/ubuntu/correlation_heatmap.png\")\n",
    "        plt.show()\n",
    "    else:\n",
    "        print(\"Aucune colonne numérique trouvée pour l'analyse de corrélation.\")\n"
   ]
  }
 ],
 "metadata": {},
 "nbformat": 4,
 "nbformat_minor": 5
}
